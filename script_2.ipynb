{
  "nbformat": 4,
  "nbformat_minor": 0,
  "metadata": {
    "colab": {
      "provenance": [],
      "private_outputs": true,
      "toc_visible": true
    },
    "kernelspec": {
      "name": "python3",
      "display_name": "Python 3"
    },
    "language_info": {
      "name": "python"
    }
  },
  "cells": [
    {
      "cell_type": "markdown",
      "source": [
        "# Script 2 - DeepLabCut in Sports\n",
        "\n",
        "Script supporting: Apolinário-Souza, T., Bedo, B. L. S., Leonardi, T. J. *Application of the DeepLabCut toolbox in sports: a Deep Learning approach*. 2024\n",
        "\n",
        "This script demonstrates the necessary steps to use DeepLabCut on our data:\n",
        "\n",
        "- load data\n",
        "- create a training set\n",
        "- train a network\n",
        "- evaluate a network\n",
        "- analyze a novel video\n",
        "\n",
        "This script was adapted from: https://github.com/DeepLabCut/DeepLabCut/blob/main/examples/COLAB/COLAB_DEMO_mouse_openfield.ipynb"
      ],
      "metadata": {
        "id": "V4mRN1z4ETQE"
      }
    },
    {
      "cell_type": "markdown",
      "source": [
        "# **Upload the dataset folder to your Google Drive**  \n",
        "## In our example, the folder is named 'Game-hand-2024-08-11"
      ],
      "metadata": {
        "id": "Qs_VK3nFli_K"
      }
    },
    {
      "cell_type": "markdown",
      "source": [
        "\n",
        "# **Change run time type for configurations**  \n",
        "## go to menu, click Runtime > Change Runtime Type > select \"GPU\"*\n"
      ],
      "metadata": {
        "id": "OfegOcDR9lpG"
      }
    },
    {
      "cell_type": "code",
      "execution_count": null,
      "metadata": {
        "id": "O9wSGDsrwd_P"
      },
      "outputs": [],
      "source": [
        "!pip install deeplabcut\n",
        "%reload_ext numpy\n",
        "%reload_ext scipy\n",
        "%reload_ext matplotlib\n",
        "%reload_ext mpl_toolkits\n",
        "\n",
        "!pip install --upgrade \"tensorflow<=2.10\"\n",
        "!pip install tensorpack\n"
      ]
    },
    {
      "cell_type": "markdown",
      "source": [
        "PLEASE, click \"restart runtime\" from the output above before proceeding!"
      ],
      "metadata": {
        "id": "FKe9YqoADOlP"
      }
    },
    {
      "cell_type": "code",
      "source": [
        "import deeplabcut\n"
      ],
      "metadata": {
        "id": "tg_ZlA-Gw0vF"
      },
      "execution_count": null,
      "outputs": []
    },
    {
      "cell_type": "code",
      "source": [
        "from google.colab import drive\n",
        "drive.mount('/content/drive')"
      ],
      "metadata": {
        "id": "vEK4qrdxx7hW"
      },
      "execution_count": null,
      "outputs": []
    },
    {
      "cell_type": "code",
      "source": [
        "name_folder = 'Game-hand-2024-08-11' #name of the folder\n",
        "\n",
        "#create a path variable that links to the config file:\n",
        "path_config_file = '/content/drive/MyDrive/'+name_folder+'/config.yaml'\n"
      ],
      "metadata": {
        "id": "SzdzTV4ApXSy"
      },
      "execution_count": null,
      "outputs": []
    },
    {
      "cell_type": "markdown",
      "source": [
        "## Start training:\n",
        "This function trains the network for a specific shuffle of the training dataset."
      ],
      "metadata": {
        "id": "lGK2fv1ugpGA"
      }
    },
    {
      "cell_type": "code",
      "source": [
        "deeplabcut.create_training_dataset(path_config_file, net_type='resnet_50', augmenter_type='imgaug')\n"
      ],
      "metadata": {
        "id": "JV0N0k6k70Bl"
      },
      "execution_count": null,
      "outputs": []
    },
    {
      "cell_type": "code",
      "source": [
        "deeplabcut.train_network(path_config_file,  shuffle=1, displayiters=100,saveiters=500, maxiters=10000)"
      ],
      "metadata": {
        "id": "eEO69_VW8t4y"
      },
      "execution_count": null,
      "outputs": []
    },
    {
      "cell_type": "markdown",
      "source": [
        "We recommend stopped the training when the loss function value reached below (ls) 0.005 with a learning rate (lr) of 0.005. This should take around 5 hours. Note, that **when you hit \"STOP\" you will get a KeyInterrupt \"error\"! No worries!**\n",
        "\n"
      ],
      "metadata": {
        "id": "KWS3mEQMg7bN"
      }
    },
    {
      "cell_type": "markdown",
      "source": [
        "## Start evaluating:\n",
        "This function evaluates a trained model for a specific shuffle/shuffles at a particular state or all the states on the data set (images)\n",
        "and stores the results as .csv file in a subdirectory under **evaluation-results**"
      ],
      "metadata": {
        "id": "QJFurszKh3OS"
      }
    },
    {
      "cell_type": "code",
      "source": [
        "%matplotlib notebook\n",
        "deeplabcut.evaluate_network(path_config_file,plotting=True)"
      ],
      "metadata": {
        "id": "JpMNROS48d3-"
      },
      "execution_count": null,
      "outputs": []
    },
    {
      "cell_type": "code",
      "source": [
        "deeplabcut.extract_save_all_maps(path_config_file, shuffle=1, Indices=[0, 5])"
      ],
      "metadata": {
        "id": "tx72YOlX5erv"
      },
      "execution_count": null,
      "outputs": []
    },
    {
      "cell_type": "markdown",
      "source": [
        "## Start Analyzing videos:\n",
        "This function analyzes the video. The results are stored in hd5 file in the same directory where the video resides."
      ],
      "metadata": {
        "id": "pmzSnjrUiXLn"
      }
    },
    {
      "cell_type": "code",
      "source": [
        "name_video = 'hand.mp4' #name for video\n",
        "videofile_path = ['/content/drive/MyDrive/'+name_folder+'/videos/'+name_video] #Enter the list of videos to analyze."
      ],
      "metadata": {
        "id": "SvHGlJsC9yps"
      },
      "execution_count": null,
      "outputs": []
    },
    {
      "cell_type": "code",
      "source": [
        "deeplabcut.analyze_videos(path_config_file,videofile_path, videotype='.mp4')"
      ],
      "metadata": {
        "id": "395xUb1l-2bc"
      },
      "execution_count": null,
      "outputs": []
    },
    {
      "cell_type": "markdown",
      "source": [
        "## Create labeled video:\n",
        "This function is for visualization purpose and can be used to create a video in .mp4 format with labels predicted by the network. This video is saved in the same directory where the original video resides."
      ],
      "metadata": {
        "id": "uQflcDk7iyt5"
      }
    },
    {
      "cell_type": "code",
      "source": [
        "deeplabcut.create_labeled_video(path_config_file,videofile_path)"
      ],
      "metadata": {
        "id": "nHpjuEcbpaDO"
      },
      "execution_count": null,
      "outputs": []
    },
    {
      "cell_type": "markdown",
      "source": [
        "## Plot the trajectories of the analyzed videos:\n",
        "This function plots the trajectories of all the players across the entire video."
      ],
      "metadata": {
        "id": "IPKHD5nfi8Xd"
      }
    },
    {
      "cell_type": "code",
      "source": [
        "deeplabcut.plot_trajectories(path_config_file,videofile_path)"
      ],
      "metadata": {
        "id": "W9MlOT_e_jkt"
      },
      "execution_count": null,
      "outputs": []
    },
    {
      "cell_type": "markdown",
      "source": [
        "## Convert data trajectory in csv file.\n",
        "The position data will be saved in a CSV file in the root directory."
      ],
      "metadata": {
        "id": "AX0UWMu-jXcN"
      }
    },
    {
      "cell_type": "code",
      "source": [
        "import pandas as pd\n",
        "\n",
        "\n",
        "#copy the file .h5 in videos folder\n",
        "path = '/content/drive/MyDrive/Game-hand-2024-08-11/videos/handDLC_resnet50_GameAug11shuffle1_5000.h5'\n",
        "dt = pd.read_hdf(path)\n",
        "\n",
        "\n",
        "save = 'positions.cvs'\n",
        "dt.to_csv('/content/drive/MyDrive/'+name_folder+'/'+save, sep='\\t')"
      ],
      "metadata": {
        "id": "6ClWSEfAKNCr"
      },
      "execution_count": null,
      "outputs": []
    }
  ]
}